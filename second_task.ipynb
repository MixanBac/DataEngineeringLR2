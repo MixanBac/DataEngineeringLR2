{
  "nbformat": 4,
  "nbformat_minor": 0,
  "metadata": {
    "colab": {
      "provenance": []
    },
    "kernelspec": {
      "name": "python3",
      "display_name": "Python 3"
    },
    "language_info": {
      "name": "python"
    }
  },
  "cells": [
    {
      "cell_type": "code",
      "execution_count": 8,
      "metadata": {
        "colab": {
          "base_uri": "https://localhost:8080/"
        },
        "id": "84atBWeCAYty",
        "outputId": "85f8b5fb-cd49-4fcc-a2b9-834df53f79d0"
      },
      "outputs": [
        {
          "output_type": "stream",
          "name": "stdout",
          "text": [
            "Epoch 1/10\n",
            "63/63 [==============================] - 1s 4ms/step - loss: 2.1516 - accuracy: 0.3100\n",
            "Epoch 2/10\n",
            "63/63 [==============================] - 0s 4ms/step - loss: 1.6382 - accuracy: 0.6100\n",
            "Epoch 3/10\n",
            "63/63 [==============================] - 0s 4ms/step - loss: 1.2582 - accuracy: 0.7740\n",
            "Epoch 4/10\n",
            "63/63 [==============================] - 0s 6ms/step - loss: 0.9691 - accuracy: 0.8415\n",
            "Epoch 5/10\n",
            "63/63 [==============================] - 0s 6ms/step - loss: 0.7539 - accuracy: 0.8935\n",
            "Epoch 6/10\n",
            "63/63 [==============================] - 0s 7ms/step - loss: 0.5886 - accuracy: 0.9310\n",
            "Epoch 7/10\n",
            "63/63 [==============================] - 0s 7ms/step - loss: 0.4663 - accuracy: 0.9450\n",
            "Epoch 8/10\n",
            "63/63 [==============================] - 0s 6ms/step - loss: 0.3740 - accuracy: 0.9585\n",
            "Epoch 9/10\n",
            "63/63 [==============================] - 0s 6ms/step - loss: 0.3011 - accuracy: 0.9635\n",
            "Epoch 10/10\n",
            "63/63 [==============================] - 0s 7ms/step - loss: 0.2490 - accuracy: 0.9680\n",
            "13/13 [==============================] - 0s 2ms/step - loss: 0.3989 - accuracy: 0.8975\n"
          ]
        }
      ],
      "source": [
        "import pandas as pd\n",
        "import tensorflow as tf\n",
        "import numpy as np\n",
        "\n",
        "csv_logger = [tf.keras.callbacks.CSVLogger('log.csv', append=True, separator=';')]\n",
        "\n",
        "def train_data():\n",
        "    (X_train, y_train), (X_test, y_test) = tf.keras.datasets.mnist.load_data()\n",
        "    X_train = X_train[:2000]\n",
        "    y_train = y_train[:2000]\n",
        "    X_test = X_test[:400]\n",
        "    y_test = y_test[:400]\n",
        "    X_train = X_train / 255\n",
        "    X_test = X_test / 255\n",
        "    X_train_flat = X_train.reshape(len(X_train), (28 * 28))\n",
        "    X_test_flat = X_test.reshape(len(X_test), (28 * 28))\n",
        "\n",
        "    model = tf.keras.Sequential([\n",
        "        tf.keras.layers.Dense(128, input_shape = (784,), activation = 'relu'),\n",
        "        tf.keras.layers.Dense(64, activation = 'sigmoid'),\n",
        "        tf.keras.layers.Dense(32, activation = 'sigmoid'),\n",
        "        tf.keras.layers.Dense(10, activation = 'softmax'),\n",
        "    ])\n",
        "\n",
        "    model.compile(\n",
        "        optimizer = 'adam',\n",
        "        loss = \"sparse_categorical_crossentropy\",\n",
        "        metrics=['accuracy']\n",
        "    )\n",
        "\n",
        "    logs = model.fit(X_train_flat, y_train, epochs=10, callbacks=csv_logger)\n",
        "    model.evaluate(X_test_flat, y_test)\n",
        "train_data()"
      ]
    },
    {
      "cell_type": "markdown",
      "source": [
        "# Новый раздел"
      ],
      "metadata": {
        "id": "PwNCrMr8Ou48"
      }
    },
    {
      "cell_type": "code",
      "source": [
        "model.evaluate(X_test_flat, y_test)"
      ],
      "metadata": {
        "colab": {
          "base_uri": "https://localhost:8080/",
          "height": 179
        },
        "id": "E_lOvvPKFXHd",
        "outputId": "7eb54700-56a4-43a6-f375-fbdeaa0cd50a"
      },
      "execution_count": null,
      "outputs": [
        {
          "output_type": "error",
          "ename": "NameError",
          "evalue": "ignored",
          "traceback": [
            "\u001b[0;31m---------------------------------------------------------------------------\u001b[0m",
            "\u001b[0;31mNameError\u001b[0m                                 Traceback (most recent call last)",
            "\u001b[0;32m<ipython-input-2-bde6844f8022>\u001b[0m in \u001b[0;36m<cell line: 1>\u001b[0;34m()\u001b[0m\n\u001b[0;32m----> 1\u001b[0;31m \u001b[0mmodel\u001b[0m\u001b[0;34m.\u001b[0m\u001b[0mevaluate\u001b[0m\u001b[0;34m(\u001b[0m\u001b[0mX_test_flat\u001b[0m\u001b[0;34m,\u001b[0m \u001b[0my_test\u001b[0m\u001b[0;34m)\u001b[0m\u001b[0;34m\u001b[0m\u001b[0;34m\u001b[0m\u001b[0m\n\u001b[0m",
            "\u001b[0;31mNameError\u001b[0m: name 'model' is not defined"
          ]
        }
      ]
    },
    {
      "cell_type": "code",
      "source": [
        "import pandas as pd\n",
        "import tensorflow as tf\n",
        "import numpy as np\n",
        "import logging"
      ],
      "metadata": {
        "id": "rhJ6qNfYBh6f"
      },
      "execution_count": null,
      "outputs": []
    },
    {
      "cell_type": "code",
      "source": [
        "(X_train, y_train), (X_test, y_test) = tf.keras.datasets.mnist.load_data()\n",
        "X_train = X_train[:2000]\n",
        "y_train = y_train[:2000]\n",
        "X_test = X_test[:400]\n",
        "y_test = y_test[:400]\n",
        "X_train = X_train / 255\n",
        "X_test = X_test / 255\n",
        "X_train_flat = X_train.reshape(len(X_train), (28 * 28))\n",
        "X_test_flat = X_test.reshape(len(X_test), (28 * 28))\n",
        "X_train_flat.shape"
      ],
      "metadata": {
        "colab": {
          "base_uri": "https://localhost:8080/"
        },
        "id": "4T8Z_IhrBo5Y",
        "outputId": "48d39f0a-a875-413f-e4ec-f013af8c9801"
      },
      "execution_count": null,
      "outputs": [
        {
          "output_type": "execute_result",
          "data": {
            "text/plain": [
              "(2000, 784)"
            ]
          },
          "metadata": {},
          "execution_count": 9
        }
      ]
    },
    {
      "cell_type": "code",
      "source": [
        "model = tf.keras.Sequential([\n",
        "        tf.keras.layers.Dense(128, input_shape = (784,), activation = 'relu'),\n",
        "        tf.keras.layers.Dense(64, activation = 'sigmoid'),\n",
        "        tf.keras.layers.Dense(32, activation = 'sigmoid'),\n",
        "        tf.keras.layers.Dense(10, activation = 'softmax'),\n",
        "    ])\n",
        "\n",
        "model.compile(\n",
        "  optimizer = 'adam',\n",
        "  loss = \"sparse_categorical_crossentropy\",\n",
        "  metrics=['mae']\n",
        "  )\n"
      ],
      "metadata": {
        "id": "FjddYHweB3_I"
      },
      "execution_count": null,
      "outputs": []
    },
    {
      "cell_type": "code",
      "source": [
        "class LogToFileCallback(tf.keras.callbacks.Callback):\n",
        "  def on_epoch_end(self, epoch, logs=None):\n",
        "    msg = f\"Epoch {epoch+1}/{self.params['epochs']} - loss: {logs['loss']:.4f} - mae: {logs['mae']:.4f} - val_loss: {logs['val_loss']:.4f} - val_mae: {logs['val_mae']:.4f}\"\n",
        "    logging.info(msg)\n",
        "\n",
        "logs = model.fit(X_train_flat, y_train, epochs = 5)"
      ],
      "metadata": {
        "colab": {
          "base_uri": "https://localhost:8080/"
        },
        "id": "-CmXpzhKB4LS",
        "outputId": "ebcf10c7-b47b-464a-9a6f-e1bcab664691"
      },
      "execution_count": null,
      "outputs": [
        {
          "output_type": "stream",
          "name": "stdout",
          "text": [
            "Epoch 1/5\n",
            "63/63 [==============================] - 1s 4ms/step - loss: 2.1467 - mae: 4.4086\n",
            "Epoch 2/5\n",
            "63/63 [==============================] - 0s 4ms/step - loss: 1.6038 - mae: 4.4086\n",
            "Epoch 3/5\n",
            "63/63 [==============================] - 0s 4ms/step - loss: 1.2087 - mae: 4.4086\n",
            "Epoch 4/5\n",
            "63/63 [==============================] - 0s 4ms/step - loss: 0.9265 - mae: 4.4086\n",
            "Epoch 5/5\n",
            "63/63 [==============================] - 0s 4ms/step - loss: 0.7238 - mae: 4.4086\n"
          ]
        }
      ]
    }
  ]
}